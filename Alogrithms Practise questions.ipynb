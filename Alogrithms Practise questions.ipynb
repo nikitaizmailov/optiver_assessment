{
 "cells": [
  {
   "cell_type": "markdown",
   "id": "ff1b1f0b",
   "metadata": {},
   "source": [
    "# Optiver Quant Researcher Test\n",
    "## Answers to questions 1, 2 and 3."
   ]
  },
  {
   "cell_type": "markdown",
   "id": "c08fb3ce",
   "metadata": {},
   "source": [
    "### Completed by Nikita Izmailov"
   ]
  },
  {
   "cell_type": "code",
   "execution_count": 344,
   "id": "255ea013",
   "metadata": {},
   "outputs": [],
   "source": [
    "import numpy as np\n",
    "import random"
   ]
  },
  {
   "cell_type": "markdown",
   "id": "201eab62",
   "metadata": {},
   "source": [
    "## Question 1:\n",
    "- Question: if the food is located on east-west lines 20cm to the north and 20cm to the south, as well as on north-south lines 20cm to the east and 20cm to the west from the anthill, how long will it take the ant to reach it on average?\n",
    "- Answer: The simulation run on 20 trials with 100,000 iterations for average time taken and standard deviation. \n",
    "- This is a closed boundary: |x| >= 20 and |y| >= 20 with such condition."
   ]
  },
  {
   "cell_type": "code",
   "execution_count": 338,
   "id": "632fd02e",
   "metadata": {},
   "outputs": [],
   "source": [
    "class Ant:\n",
    "    def __init__(self, speed=10, coords=[0,0]):\n",
    "        # speed 10 cm per second.\n",
    "        self.speed = speed\n",
    "        # equal probability of choosing direction = 1/4\n",
    "        # 1 = north, 2 = east, 3 = south, 4 = west\n",
    "        self.directions = [\"north\",\"east\",\"south\",\"west\"]\n",
    "        # x, y coordinates of the ant at the start\n",
    "        self.coords = np.array(coords)\n",
    "    \n",
    "    def chooseDirection(self):\n",
    "        direction = random.randint(0, len(self.directions) - 1)\n",
    "        return self.directions[direction]\n",
    "    \n",
    "    def move(self):\n",
    "        sec = 1\n",
    "        direction = self.chooseDirection()\n",
    "        if direction == \"north\":\n",
    "            val = self.coords[1] + self.speed\n",
    "            self.coords[1] = val\n",
    "        elif direction == \"south\":\n",
    "            val = self.coords[1] - self.speed\n",
    "            self.coords[1] = val\n",
    "        elif direction == \"east\":\n",
    "            val = self.coords[0] + self.speed\n",
    "            self.coords[0] = val\n",
    "        elif direction == \"west\":\n",
    "            val = self.coords[0] - self.speed\n",
    "            self.coords[0] = val\n",
    "        \n",
    "        return sec\n",
    "    \n",
    "    def reachFood(self, foodCoords = set([20, -20])):\n",
    "        secondsCounter = 0\n",
    "        self.coords = np.array([0,0])\n",
    "        while self.coords[0] not in foodCoords and self.coords[1] not in foodCoords:\n",
    "            makeRunSec = self.move()\n",
    "            secondsCounter += makeRunSec\n",
    "        storeArray = [self.coords, secondsCounter]\n",
    "        \n",
    "        return storeArray\n",
    "\n",
    "random.seed(0)\n",
    "    \n",
    "def getMeanAndStd(X):\n",
    "    mean = sum(X)/float(len(X))\n",
    "    tot = 0.0\n",
    "    for x in X:\n",
    "        tot += (x - mean)**2\n",
    "    std = np.sqrt(tot/len(X))\n",
    "    return mean, std\n",
    "        \n",
    "    \n",
    "# simulate 20 trials with 100,000 runs each and take an average and std.\n",
    "def findAverageTimeTakenToReach(game, numTrials, numRuns):\n",
    "    timeTaken = []\n",
    "    for i in range(numTrials):\n",
    "        tempTime = []\n",
    "        for j in range(numRuns):\n",
    "            timeFood = game.reachFood()[1]\n",
    "            tempTime.append(timeFood)\n",
    "        meanVal = np.mean(tempTime)\n",
    "        timeTaken.append(meanVal)\n",
    "    \n",
    "    # Calculate Mean and Standard Deviation for the array of mean times taken\n",
    "    mean, std = getMeanAndStd(timeTaken)\n",
    "    \n",
    "    return mean, std"
   ]
  },
  {
   "cell_type": "code",
   "execution_count": 339,
   "id": "193d3285",
   "metadata": {},
   "outputs": [
    {
     "name": "stdout",
     "output_type": "stream",
     "text": [
      "\n",
      "Simulate time taken to reach food by Ant on 20 trials with 100,000 runs\n",
      "Average Time Taken: 4.5±0.01 seconds\n"
     ]
    }
   ],
   "source": [
    "game = Ant()\n",
    "\n",
    "timeTakenOnAverage = findAverageTimeTakenToReach(game, 20, 100000)\n",
    "\n",
    "print(\"\\nSimulate time taken to reach food by Ant on 20 trials with 100,000 runs\")\n",
    "print(\"Average Time Taken:\", str(round(timeTakenOnAverage[0], 2)) + \"±\" + str(round(timeTakenOnAverage[1], 2)) + \" seconds\")"
   ]
  },
  {
   "cell_type": "markdown",
   "id": "0e659fdd",
   "metadata": {},
   "source": [
    "### Explaining the Answer to Question 1:\n",
    "As per the simulation I ran, we can see that an ant on average takes 4.5 seconds with tiny standard deviation for a square boundary, shows small variance/dispersion in data, so you can be very sure that the time ant travels is very consistent with the mean."
   ]
  },
  {
   "cell_type": "markdown",
   "id": "661157c9",
   "metadata": {},
   "source": [
    "## Question 2:\n",
    "- What is the average time the ant will reach food if it is located only on a diagonal line passing through (10cm, 0cm) and (0cm, 10cm) points?\n",
    "- Hence the boundary condition is x + y = 10."
   ]
  },
  {
   "cell_type": "code",
   "execution_count": 347,
   "id": "c21a8767",
   "metadata": {},
   "outputs": [],
   "source": [
    "class AntQuestion2(Ant):\n",
    "    def __init__(self):\n",
    "        super().__init__()\n",
    "    \n",
    "    def reachFoodForUnboundedZone(self, secondsToRun):\n",
    "        secondsCounter = 0\n",
    "        self.coords = np.array([0,0])\n",
    "        reachedFood = False\n",
    "        while secondsCounter < secondsToRun:\n",
    "            makeRunSec = self.move()\n",
    "            secondsCounter += makeRunSec\n",
    "            if np.nansum(self.coords) == 10:\n",
    "                reachedFood = True\n",
    "                break\n",
    "        storeArray = [self.coords, secondsCounter, reachedFood]\n",
    "        \n",
    "        return storeArray\n",
    "    \n",
    "antQs2= AntQuestion2()"
   ]
  },
  {
   "cell_type": "code",
   "execution_count": 348,
   "id": "94730385",
   "metadata": {},
   "outputs": [],
   "source": [
    "def findAverageTimeTakenForUnbounded(game, numTrials, numRuns, seconds=[100,1000,10000]):\n",
    "    arrayOfTimeAndSuccessAnts = []\n",
    "    for time in seconds:\n",
    "        timeTaken = []\n",
    "        antsMadeIt = []\n",
    "        for i in range(numTrials):\n",
    "            successfulAnts = 0\n",
    "            tempTime = []\n",
    "            for j in range(numRuns):\n",
    "                coords, timeFood, hasReached = game.reachFoodForUnboundedZone(time)\n",
    "                if hasReached == True:\n",
    "                    successfulAnts += 1\n",
    "                    tempTime.append(timeFood)\n",
    "            meanVal = np.mean(tempTime)\n",
    "            timeTaken.append(meanVal)\n",
    "            antsMadeIt.append(successfulAnts / numRuns)\n",
    "    \n",
    "        # Calculate Mean and Standard Deviation for the array of mean times taken\n",
    "        meanTime, stdTime = getMeanAndStd(timeTaken)\n",
    "        meanAnts, stdAnts = getMeanAndStd(antsMadeIt)\n",
    "        arrayOfTimeAndSuccessAnts.append([time, meanTime, stdTime, meanAnts, stdAnts])\n",
    "    \n",
    "    return arrayOfTimeAndSuccessAnts"
   ]
  },
  {
   "cell_type": "code",
   "execution_count": 349,
   "id": "0b213091",
   "metadata": {},
   "outputs": [],
   "source": [
    "arrayOfData = findAverageTimeTakenForUnbounded(antQs2, 10, 1000)"
   ]
  },
  {
   "cell_type": "code",
   "execution_count": 350,
   "id": "73a845ff",
   "metadata": {},
   "outputs": [
    {
     "name": "stdout",
     "output_type": "stream",
     "text": [
      "\n",
      "Simulate time taken to reach food by Ant on 10 trials with 1000 runs\n",
      "100 steps/seconds allowed for ant to reach the food\n",
      "Average Time Taken: 7.69±0.42 seconds\n",
      "In this time on average: 92.27±1.0% have reached the food\n",
      "\n",
      "Simulate time taken to reach food by Ant on 10 trials with 1000 runs\n",
      "1000 steps/seconds allowed for ant to reach the food\n",
      "Average Time Taken: 24.46±3.16 seconds\n",
      "In this time on average: 97.65±0.52% have reached the food\n",
      "\n",
      "Simulate time taken to reach food by Ant on 10 trials with 1000 runs\n",
      "10000 steps/seconds allowed for ant to reach the food\n",
      "Average Time Taken: 72.7±16.68 seconds\n",
      "In this time on average: 99.27±0.3% have reached the food\n"
     ]
    }
   ],
   "source": [
    "# Results for Question 2:\n",
    "for data in arrayOfData:\n",
    "    print(\"\\nSimulate time taken to reach food by Ant on 10 trials with 1000 runs\")\n",
    "    print(str(data[0]) + \" steps/seconds allowed for ant to reach the food\")\n",
    "    print(\"Average Time Taken:\", str(round(data[1], 2)) + \"±\" + str(round(data[2], 2)) + \" seconds\")\n",
    "    print(\"In this time on average:\", str(round(data[3] * 100, 2)) + \"±\" + str(round(data[4] * 100, 2)) + \"% have reached the food\")"
   ]
  },
  {
   "cell_type": "markdown",
   "id": "72b7b39e",
   "metadata": {},
   "source": [
    "### Explaining the Answer to Question 2:\n",
    "As per the simulation I ran, we can see that not all ants can reach the diagonal line with formula y=-x+10, this is because this is an open boundary. But, an ant on average takes 72.7 seconds with ±16.68 seconds standard deviation for a open boundary. The standard deviation is quite big this is because it is affected by extreme values where ant just wonders off to wrong direction and might take much more time to reach the diagonal line, or not reach it at all."
   ]
  },
  {
   "cell_type": "markdown",
   "id": "afdba299",
   "metadata": {},
   "source": [
    "## Question 3:\n",
    "- Can you write a program that comes up with an estimate of average time to find food for any closed boundary around the anthill? What would be the answer if food is located outside an defined by ( (x – 2.5cm) / 30cm )2 + ( (y – 2.5cm) / 40cm )2 < 1 in coordinate system where the anthill is located at (x = 0cm, y = 0cm)? Provide us with a solution rounded to the nearest integer."
   ]
  },
  {
   "cell_type": "code",
   "execution_count": 353,
   "id": "34bf025c",
   "metadata": {},
   "outputs": [],
   "source": [
    "class AntQuestion3(Ant):\n",
    "    def __init__(self):\n",
    "        super().__init__()\n",
    "    \n",
    "    def reachFoodForCircle(self, secondsToRun):\n",
    "        secondsCounter = 0\n",
    "        self.coords = np.array([0,0])\n",
    "        # Reached food if ant reached the perimeter of the circle or outside of the circle\n",
    "        reachedFood = False\n",
    "        \n",
    "        while not reachedFood and secondsCounter < secondsToRun:\n",
    "            makeRunSec = self.move()\n",
    "            secondsCounter += makeRunSec\n",
    "            \n",
    "            reachedFood = np.square((self.coords[0] - 2.5) / 30) + np.square((self.coords[1] - 2.5) / 40) >= 1\n",
    "        \n",
    "        storeArray = [self.coords, secondsCounter, reachedFood]\n",
    "        \n",
    "        return storeArray\n",
    "        \n",
    "    \n",
    "antQs3 = AntQuestion3()"
   ]
  },
  {
   "cell_type": "code",
   "execution_count": 357,
   "id": "9f4f0c01",
   "metadata": {},
   "outputs": [],
   "source": [
    "# simulate 20 trials with 100,000 runs each and take an average and std.\n",
    "# Updated the function to use a different method\n",
    "def findAverageTimeTakenForCircle(game, numTrials, numRuns, seconds=[100,1000,10000]):\n",
    "    arrayOfTimeAndSuccessAnts = []\n",
    "    for time in seconds:\n",
    "        timeTaken = []\n",
    "        antsMadeIt = []\n",
    "        for i in range(numTrials):\n",
    "            successfulAnts = 0\n",
    "            tempTime = []\n",
    "            for j in range(numRuns):\n",
    "                coords, timeFood, hasReached = game.reachFoodForCircle(time)\n",
    "                if hasReached == True:\n",
    "                    successfulAnts += 1\n",
    "                    tempTime.append(timeFood)\n",
    "            meanVal = np.mean(tempTime)\n",
    "            timeTaken.append(meanVal)\n",
    "            antsMadeIt.append(successfulAnts / numRuns)\n",
    "    \n",
    "        # Calculate Mean and Standard Deviation for the array of mean times taken\n",
    "        meanTime, stdTime = getMeanAndStd(timeTaken)\n",
    "        meanAnts, stdAnts = getMeanAndStd(antsMadeIt)\n",
    "        arrayOfTimeAndSuccessAnts.append([time, meanTime, stdTime, meanAnts, stdAnts])\n",
    "    \n",
    "    return arrayOfTimeAndSuccessAnts"
   ]
  },
  {
   "cell_type": "code",
   "execution_count": 358,
   "id": "6c7902dc",
   "metadata": {},
   "outputs": [],
   "source": [
    "arrayOfDataQS3 = findAverageTimeTakenForCircle(antQs3, 10, 10000)"
   ]
  },
  {
   "cell_type": "code",
   "execution_count": 362,
   "id": "6a3348f0",
   "metadata": {},
   "outputs": [
    {
     "name": "stdout",
     "output_type": "stream",
     "text": [
      "\n",
      "Simulate time taken to reach food by Ant on 10 trials with 10,000 runs\n",
      "100 steps/seconds allowed for ant to reach the food\n",
      "Average Time Taken: 14±0.1 seconds\n",
      "In this time on average: 100.0±0.01% have reached the food\n",
      "\n",
      "Simulate time taken to reach food by Ant on 10 trials with 10,000 runs\n",
      "1000 steps/seconds allowed for ant to reach the food\n",
      "Average Time Taken: 14±0.11 seconds\n",
      "In this time on average: 100.0±0.0% have reached the food\n",
      "\n",
      "Simulate time taken to reach food by Ant on 10 trials with 10,000 runs\n",
      "10000 steps/seconds allowed for ant to reach the food\n",
      "Average Time Taken: 14±0.09 seconds\n",
      "In this time on average: 100.0±0.0% have reached the food\n"
     ]
    }
   ],
   "source": [
    "# Results for Question 3:\n",
    "for data in arrayOfDataQS3:\n",
    "    print(\"\\nSimulate time taken to reach food by Ant on 10 trials with 10,000 runs\")\n",
    "    print(str(data[0]) + \" steps/seconds allowed for ant to reach the food\")\n",
    "    print(\"Average Time Taken:\", str(round(data[1])) + \"±\" + str(round(data[2], 2)) + \" seconds\")\n",
    "    print(\"In this time on average:\", str(round(data[3] * 100, 2)) + \"±\" + str(round(data[4] * 100, 2)) + \"% have reached the food\")"
   ]
  },
  {
   "cell_type": "markdown",
   "id": "0350eeba",
   "metadata": {},
   "source": [
    "### Explaining the Answer to Question 3:\n",
    "As per the simulation I ran, we can see that an ant on average takes 14 seconds with tiny standard deviation for a circle boundary, shows small variance/dispersion in data, so you can be very sure that the time ant travels is very consistent with the mean."
   ]
  },
  {
   "cell_type": "code",
   "execution_count": null,
   "id": "5c55b074",
   "metadata": {},
   "outputs": [],
   "source": []
  }
 ],
 "metadata": {
  "kernelspec": {
   "display_name": "Python 3 (ipykernel)",
   "language": "python",
   "name": "python3"
  },
  "language_info": {
   "codemirror_mode": {
    "name": "ipython",
    "version": 3
   },
   "file_extension": ".py",
   "mimetype": "text/x-python",
   "name": "python",
   "nbconvert_exporter": "python",
   "pygments_lexer": "ipython3",
   "version": "3.9.12"
  }
 },
 "nbformat": 4,
 "nbformat_minor": 5
}
